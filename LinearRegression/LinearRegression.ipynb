{
 "cells": [
  {
   "cell_type": "code",
   "execution_count": 111,
   "id": "09bcf35b-0242-4f89-9b39-5f24e9b3a22e",
   "metadata": {},
   "outputs": [],
   "source": [
    "import numpy as np"
   ]
  },
  {
   "cell_type": "code",
   "execution_count": 112,
   "id": "865b2008-7725-4425-a705-fa15ae015289",
   "metadata": {},
   "outputs": [],
   "source": [
    "class LinearRegression():\n",
    "    \n",
    "    def __init__(self,lr=0.001,iterations=1000):\n",
    "\n",
    "        self.lr=lr\n",
    "        self.iterations=iterations\n",
    "        self.weights=None\n",
    "        self.bias=None\n",
    "                          \n",
    "    def fit(self,X,Y):\n",
    "        n_samples,n_features=X.shape\n",
    "        self.weights=np.zeros(n_features)\n",
    "        self.bias=0\n",
    "\n",
    "        for _ in range(n_samples):\n",
    "            linear_pred=np.dot(X,self.weights)+self.bias\n",
    "\n",
    "            Dweights=(1/n_samples)*np.dot(X.T,(linear_pred-Y))\n",
    "            Dbias=(1/n_samples)*np.sum(linear_pred-Y)\n",
    "\n",
    "            self.weights=self.weights-Dweights*self.lr\n",
    "            self.bias=self.bias-Dbias*self.lr\n",
    "\n",
    "    def predict(self,X):\n",
    "        linear_pred=np.dot(X,self.weights)+self.bias\n",
    "\n",
    "        return np.array(linear_pred)\n",
    "        "
   ]
  },
  {
   "cell_type": "markdown",
   "id": "b8da7cc7-e2ca-41a8-864a-7b6cbf30bd25",
   "metadata": {},
   "source": [
    "TESTING\n"
   ]
  },
  {
   "cell_type": "code",
   "execution_count": 113,
   "id": "227c7ef3-e721-4818-9889-84e0e05526e7",
   "metadata": {},
   "outputs": [],
   "source": [
    "from sklearn.model_selection import train_test_split\n",
    "from sklearn import datasets\n",
    "import matplotlib.pyplot as plt\n",
    "import pandas as pd"
   ]
  },
  {
   "cell_type": "code",
   "execution_count": 114,
   "id": "3c7cdc0d-0470-48f6-9ce6-a216e5bbbf20",
   "metadata": {},
   "outputs": [],
   "source": [
    "n_feature=5\n",
    "x,y=datasets.make_regression(n_samples=300, n_features=n_feature, noise=20, random_state=4)\n",
    "\n",
    "feature_cols=[f'feature-{i}' for i in range(n_feature)]\n",
    "\n",
    "df = pd.DataFrame(data=x,columns=feature_cols)\n",
    "\n",
    "df['target']=y"
   ]
  },
  {
   "cell_type": "code",
   "execution_count": 115,
   "id": "3d6244c4-5c80-44c9-aa41-bc8b37d862f6",
   "metadata": {},
   "outputs": [
    {
     "data": {
      "text/html": [
       "<div>\n",
       "<style scoped>\n",
       "    .dataframe tbody tr th:only-of-type {\n",
       "        vertical-align: middle;\n",
       "    }\n",
       "\n",
       "    .dataframe tbody tr th {\n",
       "        vertical-align: top;\n",
       "    }\n",
       "\n",
       "    .dataframe thead th {\n",
       "        text-align: right;\n",
       "    }\n",
       "</style>\n",
       "<table border=\"1\" class=\"dataframe\">\n",
       "  <thead>\n",
       "    <tr style=\"text-align: right;\">\n",
       "      <th></th>\n",
       "      <th>feature-0</th>\n",
       "      <th>feature-1</th>\n",
       "      <th>feature-2</th>\n",
       "      <th>feature-3</th>\n",
       "      <th>feature-4</th>\n",
       "      <th>target</th>\n",
       "    </tr>\n",
       "  </thead>\n",
       "  <tbody>\n",
       "    <tr>\n",
       "      <th>0</th>\n",
       "      <td>-0.430913</td>\n",
       "      <td>1.153340</td>\n",
       "      <td>-0.632201</td>\n",
       "      <td>-0.129095</td>\n",
       "      <td>0.939602</td>\n",
       "      <td>13.583172</td>\n",
       "    </tr>\n",
       "    <tr>\n",
       "      <th>1</th>\n",
       "      <td>0.332560</td>\n",
       "      <td>1.337296</td>\n",
       "      <td>-0.859128</td>\n",
       "      <td>0.390552</td>\n",
       "      <td>1.721243</td>\n",
       "      <td>80.931698</td>\n",
       "    </tr>\n",
       "    <tr>\n",
       "      <th>2</th>\n",
       "      <td>0.969503</td>\n",
       "      <td>2.360360</td>\n",
       "      <td>-0.605274</td>\n",
       "      <td>0.653609</td>\n",
       "      <td>-0.057051</td>\n",
       "      <td>207.386498</td>\n",
       "    </tr>\n",
       "    <tr>\n",
       "      <th>3</th>\n",
       "      <td>-1.353353</td>\n",
       "      <td>-1.603413</td>\n",
       "      <td>0.849631</td>\n",
       "      <td>2.016347</td>\n",
       "      <td>0.249793</td>\n",
       "      <td>39.843913</td>\n",
       "    </tr>\n",
       "    <tr>\n",
       "      <th>4</th>\n",
       "      <td>2.704963</td>\n",
       "      <td>-1.083003</td>\n",
       "      <td>1.007247</td>\n",
       "      <td>0.090054</td>\n",
       "      <td>-0.229690</td>\n",
       "      <td>220.781442</td>\n",
       "    </tr>\n",
       "    <tr>\n",
       "      <th>...</th>\n",
       "      <td>...</td>\n",
       "      <td>...</td>\n",
       "      <td>...</td>\n",
       "      <td>...</td>\n",
       "      <td>...</td>\n",
       "      <td>...</td>\n",
       "    </tr>\n",
       "    <tr>\n",
       "      <th>295</th>\n",
       "      <td>-0.780654</td>\n",
       "      <td>1.547685</td>\n",
       "      <td>0.693484</td>\n",
       "      <td>-0.120373</td>\n",
       "      <td>0.782976</td>\n",
       "      <td>68.289679</td>\n",
       "    </tr>\n",
       "    <tr>\n",
       "      <th>296</th>\n",
       "      <td>0.332253</td>\n",
       "      <td>0.425072</td>\n",
       "      <td>-0.087987</td>\n",
       "      <td>-1.156816</td>\n",
       "      <td>0.618670</td>\n",
       "      <td>-30.166056</td>\n",
       "    </tr>\n",
       "    <tr>\n",
       "      <th>297</th>\n",
       "      <td>-0.796743</td>\n",
       "      <td>-0.467436</td>\n",
       "      <td>0.357580</td>\n",
       "      <td>0.817899</td>\n",
       "      <td>-0.060024</td>\n",
       "      <td>20.387434</td>\n",
       "    </tr>\n",
       "    <tr>\n",
       "      <th>298</th>\n",
       "      <td>-0.924149</td>\n",
       "      <td>1.508228</td>\n",
       "      <td>-0.667073</td>\n",
       "      <td>-1.748204</td>\n",
       "      <td>0.580786</td>\n",
       "      <td>-174.174727</td>\n",
       "    </tr>\n",
       "    <tr>\n",
       "      <th>299</th>\n",
       "      <td>1.380968</td>\n",
       "      <td>-1.350040</td>\n",
       "      <td>-0.590383</td>\n",
       "      <td>-1.971753</td>\n",
       "      <td>-0.331453</td>\n",
       "      <td>-186.326115</td>\n",
       "    </tr>\n",
       "  </tbody>\n",
       "</table>\n",
       "<p>300 rows × 6 columns</p>\n",
       "</div>"
      ],
      "text/plain": [
       "     feature-0  feature-1  feature-2  feature-3  feature-4      target\n",
       "0    -0.430913   1.153340  -0.632201  -0.129095   0.939602   13.583172\n",
       "1     0.332560   1.337296  -0.859128   0.390552   1.721243   80.931698\n",
       "2     0.969503   2.360360  -0.605274   0.653609  -0.057051  207.386498\n",
       "3    -1.353353  -1.603413   0.849631   2.016347   0.249793   39.843913\n",
       "4     2.704963  -1.083003   1.007247   0.090054  -0.229690  220.781442\n",
       "..         ...        ...        ...        ...        ...         ...\n",
       "295  -0.780654   1.547685   0.693484  -0.120373   0.782976   68.289679\n",
       "296   0.332253   0.425072  -0.087987  -1.156816   0.618670  -30.166056\n",
       "297  -0.796743  -0.467436   0.357580   0.817899  -0.060024   20.387434\n",
       "298  -0.924149   1.508228  -0.667073  -1.748204   0.580786 -174.174727\n",
       "299   1.380968  -1.350040  -0.590383  -1.971753  -0.331453 -186.326115\n",
       "\n",
       "[300 rows x 6 columns]"
      ]
     },
     "execution_count": 115,
     "metadata": {},
     "output_type": "execute_result"
    }
   ],
   "source": [
    "df\n"
   ]
  },
  {
   "cell_type": "code",
   "execution_count": 116,
   "id": "8bac790e-8d1d-44c9-ae94-119f503b58b5",
   "metadata": {},
   "outputs": [],
   "source": [
    "X=df.drop('target' , axis=1)\n",
    "Y=df['target']"
   ]
  },
  {
   "cell_type": "code",
   "execution_count": 117,
   "id": "ef7d2f79-2b64-4663-9b86-6512d5ffdef5",
   "metadata": {},
   "outputs": [
    {
     "data": {
      "text/plain": [
       "(240, 5)"
      ]
     },
     "execution_count": 117,
     "metadata": {},
     "output_type": "execute_result"
    }
   ],
   "source": [
    "X_train,X_test,Y_train,Y_test=train_test_split(X,Y,test_size=0.2, random_state=1)\n",
    "X_train.shape"
   ]
  },
  {
   "cell_type": "code",
   "execution_count": 118,
   "id": "a030a61e-0533-4570-a052-4e5a965af4b5",
   "metadata": {},
   "outputs": [
    {
     "data": {
      "text/plain": [
       "(240,)"
      ]
     },
     "execution_count": 118,
     "metadata": {},
     "output_type": "execute_result"
    }
   ],
   "source": [
    "Y_train.shape"
   ]
  },
  {
   "cell_type": "code",
   "execution_count": 119,
   "id": "0a6fa17c-66e0-4490-a774-a3f605369a9e",
   "metadata": {},
   "outputs": [],
   "source": [
    "lin = LinearRegression(lr=0.1)\n",
    "lin.fit(X_train.values, Y_train.values.flatten())\n",
    "pred=lin.predict(X_test.values)"
   ]
  },
  {
   "cell_type": "code",
   "execution_count": 120,
   "id": "ff30e60b-51e3-4745-8454-038ecd79f187",
   "metadata": {},
   "outputs": [
    {
     "name": "stdout",
     "output_type": "stream",
     "text": [
      "min: -513.4679313893653\n",
      "max: 448.04516125424607\n",
      "MSE: 387.60779850607963\n",
      "RMSE: 19.687757579421778\n"
     ]
    }
   ],
   "source": [
    "print('min:',df['target'].min())\n",
    "print('max:',df['target'].max())\n",
    "\n",
    "def MSE(pred, pred_test):\n",
    "    return np.sum((pred_test-pred)**2)/len(pred)\n",
    "print('MSE:',MSE(pred,Y_test.values))\n",
    "\n",
    "print('RMSE:',np.sqrt(MSE(pred,Y_test.values)))"
   ]
  },
  {
   "cell_type": "code",
   "execution_count": 122,
   "id": "d27bf86e-6bdf-426a-ab3c-d6b026e58103",
   "metadata": {},
   "outputs": [
    {
     "name": "stdout",
     "output_type": "stream",
     "text": [
      "R2:  0.9862617051270111\n"
     ]
    }
   ],
   "source": [
    "from sklearn.metrics import r2_score\n",
    "\n",
    "print('R2: ',r2_score(Y_test.values,pred))"
   ]
  },
  {
   "cell_type": "code",
   "execution_count": null,
   "id": "dd0b4399-75b0-49e5-90b9-184a5c248c8b",
   "metadata": {},
   "outputs": [],
   "source": []
  }
 ],
 "metadata": {
  "kernelspec": {
   "display_name": "Python 3 (ipykernel)",
   "language": "python",
   "name": "python3"
  },
  "language_info": {
   "codemirror_mode": {
    "name": "ipython",
    "version": 3
   },
   "file_extension": ".py",
   "mimetype": "text/x-python",
   "name": "python",
   "nbconvert_exporter": "python",
   "pygments_lexer": "ipython3",
   "version": "3.12.7"
  }
 },
 "nbformat": 4,
 "nbformat_minor": 5
}
